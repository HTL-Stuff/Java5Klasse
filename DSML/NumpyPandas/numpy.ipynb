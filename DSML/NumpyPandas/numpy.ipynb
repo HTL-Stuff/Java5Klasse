{
 "cells": [
  {
   "cell_type": "markdown",
   "metadata": {
    "id": "FrTBaue_1l1N"
   },
   "source": [
    "# numpy"
   ]
  },
  {
   "cell_type": "markdown",
   "metadata": {
    "id": "pFleG0eK1l1S"
   },
   "source": [
    "## Basics"
   ]
  },
  {
   "cell_type": "code",
   "execution_count": 13,
   "metadata": {
    "id": "1N3bI9rZ1l1U"
   },
   "outputs": [],
   "source": [
    "import numpy as np"
   ]
  },
  {
   "cell_type": "markdown",
   "metadata": {
    "id": "UFAuVymX1l1W"
   },
   "source": [
    "Erzeuge ein Array `a` mit den Werten  \n",
    "\n",
    " 2 3 2 4  \n",
    " 3 4 9 3  \n",
    " 4 0 1 4"
   ]
  },
  {
   "cell_type": "code",
   "execution_count": 14,
   "metadata": {
    "scrolled": true,
    "id": "rlS49Zj-1l1Y"
   },
   "outputs": [],
   "source": [
    "a = np.array([2,3,2,4,3,4,9,3,4,0,1,4])"
   ]
  },
  {
   "cell_type": "markdown",
   "metadata": {
    "id": "X01V39P51l1a"
   },
   "source": [
    "Bestimme die Dimensionen des Arrays"
   ]
  },
  {
   "cell_type": "code",
   "execution_count": 15,
   "metadata": {
    "colab": {
     "base_uri": "https://localhost:8080/"
    },
    "id": "4mgDRwLm1l1c",
    "outputId": "a36e7a5f-e941-4a41-9b6d-5cf1bd2a6b0f"
   },
   "outputs": [
    {
     "data": {
      "text/plain": "array([[2, 3, 2],\n       [4, 3, 4],\n       [9, 3, 4],\n       [0, 1, 4]])"
     },
     "execution_count": 15,
     "metadata": {},
     "output_type": "execute_result"
    }
   ],
   "source": [
    "a.reshape(4,3)"
   ]
  },
  {
   "cell_type": "markdown",
   "metadata": {
    "id": "CelgU2dK1l1d"
   },
   "source": [
    "Bestimme die `len` des Arrays"
   ]
  },
  {
   "cell_type": "code",
   "execution_count": 16,
   "metadata": {
    "colab": {
     "base_uri": "https://localhost:8080/"
    },
    "id": "7DZYdZO41l1e",
    "outputId": "7b4424a0-8bf5-4598-9cf0-66a1e5b92628"
   },
   "outputs": [
    {
     "data": {
      "text/plain": "12"
     },
     "execution_count": 16,
     "metadata": {},
     "output_type": "execute_result"
    }
   ],
   "source": [
    "len(a)"
   ]
  },
  {
   "cell_type": "markdown",
   "metadata": {
    "id": "w-RyHGvE1l1f"
   },
   "source": [
    "## Arrayerzeugung"
   ]
  },
  {
   "cell_type": "markdown",
   "metadata": {
    "id": "kp8WAdIm1l1g"
   },
   "source": [
    "Erzeuge ein Array der Zahlen von 1 bis 5"
   ]
  },
  {
   "cell_type": "code",
   "execution_count": 17,
   "metadata": {
    "colab": {
     "base_uri": "https://localhost:8080/"
    },
    "id": "vzTURZWu1l1i",
    "outputId": "c7e733f8-21e9-4d79-a49d-66130bdde5d4"
   },
   "outputs": [
    {
     "data": {
      "text/plain": "array([1, 2, 3, 4, 5])"
     },
     "execution_count": 17,
     "metadata": {},
     "output_type": "execute_result"
    }
   ],
   "source": [
    "np.arange(1,6)\n"
   ]
  },
  {
   "cell_type": "markdown",
   "metadata": {
    "id": "WkjM4rta1l1i"
   },
   "source": [
    "Erzeuge ein Array der Länge 10, sodass `a[0] = 2, a[9] = 5` und die Elemente des Arrays eine arithmetische Folge bilden"
   ]
  },
  {
   "cell_type": "code",
   "execution_count": 18,
   "metadata": {
    "colab": {
     "base_uri": "https://localhost:8080/"
    },
    "id": "L3cHfxSS1l1t",
    "outputId": "d9f2901c-d272-4de7-a0c9-ae7a7d7cfa7c"
   },
   "outputs": [
    {
     "data": {
      "text/plain": "array([2.        , 2.33333333, 2.66666667, 3.        , 3.33333333,\n       3.66666667, 4.        , 4.33333333, 4.66666667, 5.        ])"
     },
     "execution_count": 18,
     "metadata": {},
     "output_type": "execute_result"
    }
   ],
   "source": [
    "np.linspace(2,5,10)"
   ]
  },
  {
   "cell_type": "markdown",
   "metadata": {
    "id": "OMuZgXvx1l1t"
   },
   "source": [
    "Erzeuge ein `(3, 3)`-Array, dessen Einträge alle 1 sind "
   ]
  },
  {
   "cell_type": "code",
   "execution_count": 19,
   "metadata": {
    "colab": {
     "base_uri": "https://localhost:8080/"
    },
    "id": "3H7Y-kn61l1u",
    "outputId": "c8cefc75-8d72-4e96-ad71-96e5cad6fb57"
   },
   "outputs": [
    {
     "data": {
      "text/plain": "array([[1, 1, 1],\n       [1, 1, 1],\n       [1, 1, 1]], dtype=int16)"
     },
     "execution_count": 19,
     "metadata": {},
     "output_type": "execute_result"
    }
   ],
   "source": [
    "np.ones([3,3],dtype=np.int16)"
   ]
  },
  {
   "cell_type": "markdown",
   "metadata": {
    "id": "FFvTytGM1l1u"
   },
   "source": [
    "Erzeuge eine `(4, 4)`-Einheitsmatrix"
   ]
  },
  {
   "cell_type": "code",
   "execution_count": 20,
   "metadata": {
    "scrolled": true,
    "id": "O1ttK9lJ1l1u",
    "colab": {
     "base_uri": "https://localhost:8080/"
    },
    "outputId": "97d49fad-908c-4350-ea76-a24469a3f397"
   },
   "outputs": [
    {
     "data": {
      "text/plain": "array([[1, 0, 0, 0],\n       [0, 1, 0, 0],\n       [0, 0, 1, 0],\n       [0, 0, 0, 1]], dtype=int16)"
     },
     "execution_count": 20,
     "metadata": {},
     "output_type": "execute_result"
    }
   ],
   "source": [
    "b = np.eye(4,dtype=np.int16)\n",
    "b"
   ]
  },
  {
   "cell_type": "markdown",
   "metadata": {
    "id": "J8zlDn461l1v"
   },
   "source": [
    "Mit Hilfe der eben erzeugten Einheitsmatrix erzeuge eine `(2, 8)`-Matrix, wobei jeder 5.Eintrag 1 ist und die anderen 0"
   ]
  },
  {
   "cell_type": "code",
   "source": [
    "b.reshape((2,8))"
   ],
   "metadata": {
    "colab": {
     "base_uri": "https://localhost:8080/"
    },
    "id": "P2kxBV8_7G9P",
    "outputId": "628481d5-902d-42f1-fcc7-f7c991d18e00"
   },
   "execution_count": 21,
   "outputs": [
    {
     "data": {
      "text/plain": "array([[1, 0, 0, 0, 0, 1, 0, 0],\n       [0, 0, 1, 0, 0, 0, 0, 1]], dtype=int16)"
     },
     "execution_count": 21,
     "metadata": {},
     "output_type": "execute_result"
    }
   ]
  },
  {
   "cell_type": "markdown",
   "metadata": {
    "id": "5WCXRHxU1l1v"
   },
   "source": [
    "## Visualisierung"
   ]
  },
  {
   "cell_type": "markdown",
   "metadata": {
    "id": "b5BC_OXt1l1v"
   },
   "source": [
    "Erzeuge ein Array `x` der Länge 100, sodass `x[0] = 0, x[99] = 2π` und die Elemente des Arrays eine arithmetische Folge bilden"
   ]
  },
  {
   "cell_type": "code",
   "execution_count": 22,
   "metadata": {
    "colab": {
     "base_uri": "https://localhost:8080/"
    },
    "id": "SvLp1RDm1l1w",
    "outputId": "9e41f6d3-cdac-4fc1-dc1e-20764daf10cf"
   },
   "outputs": [
    {
     "data": {
      "text/plain": "array([0.        , 0.06346652, 0.12693304, 0.19039955, 0.25386607,\n       0.31733259, 0.38079911, 0.44426563, 0.50773215, 0.57119866,\n       0.63466518, 0.6981317 , 0.76159822, 0.82506474, 0.88853126,\n       0.95199777, 1.01546429, 1.07893081, 1.14239733, 1.20586385,\n       1.26933037, 1.33279688, 1.3962634 , 1.45972992, 1.52319644,\n       1.58666296, 1.65012947, 1.71359599, 1.77706251, 1.84052903,\n       1.90399555, 1.96746207, 2.03092858, 2.0943951 , 2.15786162,\n       2.22132814, 2.28479466, 2.34826118, 2.41172769, 2.47519421,\n       2.53866073, 2.60212725, 2.66559377, 2.72906028, 2.7925268 ,\n       2.85599332, 2.91945984, 2.98292636, 3.04639288, 3.10985939,\n       3.17332591, 3.23679243, 3.30025895, 3.36372547, 3.42719199,\n       3.4906585 , 3.55412502, 3.61759154, 3.68105806, 3.74452458,\n       3.8079911 , 3.87145761, 3.93492413, 3.99839065, 4.06185717,\n       4.12532369, 4.1887902 , 4.25225672, 4.31572324, 4.37918976,\n       4.44265628, 4.5061228 , 4.56958931, 4.63305583, 4.69652235,\n       4.75998887, 4.82345539, 4.88692191, 4.95038842, 5.01385494,\n       5.07732146, 5.14078798, 5.2042545 , 5.26772102, 5.33118753,\n       5.39465405, 5.45812057, 5.52158709, 5.58505361, 5.64852012,\n       5.71198664, 5.77545316, 5.83891968, 5.9023862 , 5.96585272,\n       6.02931923, 6.09278575, 6.15625227, 6.21971879, 6.28318531])"
     },
     "execution_count": 22,
     "metadata": {},
     "output_type": "execute_result"
    }
   ],
   "source": [
    "x = np.linspace(0,2*np.pi,100)\n",
    "x"
   ]
  },
  {
   "cell_type": "markdown",
   "metadata": {
    "id": "BgOTg_kV1l1w"
   },
   "source": [
    "Erzeuge ein Array `y`, sodass `y[i] = sin(x[i])`"
   ]
  },
  {
   "cell_type": "code",
   "execution_count": 23,
   "metadata": {
    "colab": {
     "base_uri": "https://localhost:8080/"
    },
    "id": "B4-y6Kws1l1x",
    "outputId": "30a08495-cadd-4915-ccfb-419d8fcd8b70"
   },
   "outputs": [
    {
     "data": {
      "text/plain": "array([ 0.00000000e+00,  6.34239197e-02,  1.26592454e-01,  1.89251244e-01,\n        2.51147987e-01,  3.12033446e-01,  3.71662456e-01,  4.29794912e-01,\n        4.86196736e-01,  5.40640817e-01,  5.92907929e-01,  6.42787610e-01,\n        6.90079011e-01,  7.34591709e-01,  7.76146464e-01,  8.14575952e-01,\n        8.49725430e-01,  8.81453363e-01,  9.09631995e-01,  9.34147860e-01,\n        9.54902241e-01,  9.71811568e-01,  9.84807753e-01,  9.93838464e-01,\n        9.98867339e-01,  9.99874128e-01,  9.96854776e-01,  9.89821442e-01,\n        9.78802446e-01,  9.63842159e-01,  9.45000819e-01,  9.22354294e-01,\n        8.95993774e-01,  8.66025404e-01,  8.32569855e-01,  7.95761841e-01,\n        7.55749574e-01,  7.12694171e-01,  6.66769001e-01,  6.18158986e-01,\n        5.67059864e-01,  5.13677392e-01,  4.58226522e-01,  4.00930535e-01,\n        3.42020143e-01,  2.81732557e-01,  2.20310533e-01,  1.58001396e-01,\n        9.50560433e-02,  3.17279335e-02, -3.17279335e-02, -9.50560433e-02,\n       -1.58001396e-01, -2.20310533e-01, -2.81732557e-01, -3.42020143e-01,\n       -4.00930535e-01, -4.58226522e-01, -5.13677392e-01, -5.67059864e-01,\n       -6.18158986e-01, -6.66769001e-01, -7.12694171e-01, -7.55749574e-01,\n       -7.95761841e-01, -8.32569855e-01, -8.66025404e-01, -8.95993774e-01,\n       -9.22354294e-01, -9.45000819e-01, -9.63842159e-01, -9.78802446e-01,\n       -9.89821442e-01, -9.96854776e-01, -9.99874128e-01, -9.98867339e-01,\n       -9.93838464e-01, -9.84807753e-01, -9.71811568e-01, -9.54902241e-01,\n       -9.34147860e-01, -9.09631995e-01, -8.81453363e-01, -8.49725430e-01,\n       -8.14575952e-01, -7.76146464e-01, -7.34591709e-01, -6.90079011e-01,\n       -6.42787610e-01, -5.92907929e-01, -5.40640817e-01, -4.86196736e-01,\n       -4.29794912e-01, -3.71662456e-01, -3.12033446e-01, -2.51147987e-01,\n       -1.89251244e-01, -1.26592454e-01, -6.34239197e-02, -2.44929360e-16])"
     },
     "execution_count": 23,
     "metadata": {},
     "output_type": "execute_result"
    }
   ],
   "source": [
    "y = np.sin(x)\n",
    "y"
   ]
  },
  {
   "cell_type": "markdown",
   "metadata": {
    "id": "gSz4q_F-1l1x"
   },
   "source": [
    "Wir importieren *Seaborn* für einfache Graphiken und plotten unsere Funktion"
   ]
  },
  {
   "cell_type": "code",
   "execution_count": 25,
   "metadata": {
    "colab": {
     "base_uri": "https://localhost:8080/",
     "height": 337
    },
    "id": "eiZTTN3b1l1x",
    "outputId": "005836d1-a0fe-41f2-e8be-441872f19517"
   },
   "outputs": [
    {
     "data": {
      "text/plain": "<AxesSubplot: >"
     },
     "execution_count": 25,
     "metadata": {},
     "output_type": "execute_result"
    },
    {
     "data": {
      "text/plain": "<Figure size 640x480 with 1 Axes>",
      "image/png": "[encoded data removed]"
     },
     "metadata": {},
     "output_type": "display_data"
    }
   ],
   "source": [
    "import seaborn as sns\n",
    "sns.lineplot(x=x, y=y)"
   ]
  },
  {
   "cell_type": "markdown",
   "metadata": {
    "id": "0nyN3Sd71l1z"
   },
   "source": [
    "## Indizierung und Slicing"
   ]
  },
  {
   "cell_type": "markdown",
   "metadata": {
    "id": "TPlsCPrr1l1z"
   },
   "source": [
    "Erzeuge ein Array `a` mit den Werten  \n",
    "\n",
    "2 3 2 4  \n",
    "3 4 9 3  \n",
    "4 0 1 4"
   ]
  },
  {
   "cell_type": "code",
   "execution_count": 26,
   "metadata": {
    "colab": {
     "base_uri": "https://localhost:8080/"
    },
    "id": "CnVx2zaS1l1z",
    "outputId": "fdcdd14c-a66e-4f04-c962-a3dbfd920915"
   },
   "outputs": [
    {
     "data": {
      "text/plain": "array([[2, 3, 2, 4],\n       [3, 4, 9, 3],\n       [4, 0, 1, 4]])"
     },
     "execution_count": 26,
     "metadata": {},
     "output_type": "execute_result"
    }
   ],
   "source": [
    "a = np.array([2,3,2,4,3,4,9,3,4,0,1,4])\n",
    "a = a.reshape(3,4)\n",
    "a"
   ]
  },
  {
   "cell_type": "markdown",
   "metadata": {
    "id": "iDp9saWi1l10"
   },
   "source": [
    "Selektiere die 2. Zeile"
   ]
  },
  {
   "cell_type": "code",
   "execution_count": 27,
   "metadata": {
    "colab": {
     "base_uri": "https://localhost:8080/"
    },
    "id": "yAFR8MS61l10",
    "outputId": "ba6701bb-a725-45bc-d248-4c1a4e983301"
   },
   "outputs": [
    {
     "data": {
      "text/plain": "array([[3, 4, 9, 3]])"
     },
     "execution_count": 27,
     "metadata": {},
     "output_type": "execute_result"
    }
   ],
   "source": [
    "a[1:2]"
   ]
  },
  {
   "cell_type": "markdown",
   "metadata": {
    "id": "e1dqgPmc1l10"
   },
   "source": [
    "Selektiere die 3. Spalte"
   ]
  },
  {
   "cell_type": "code",
   "execution_count": 28,
   "metadata": {
    "colab": {
     "base_uri": "https://localhost:8080/"
    },
    "id": "B-PDN7RT1l11",
    "outputId": "c805a554-e3f0-4923-8e2e-dcc161f34948"
   },
   "outputs": [
    {
     "data": {
      "text/plain": "array([4, 3, 4])"
     },
     "execution_count": 28,
     "metadata": {},
     "output_type": "execute_result"
    }
   ],
   "source": [
    "a[0:3,3]"
   ]
  },
  {
   "cell_type": "markdown",
   "metadata": {
    "id": "gMpu12SC1l11"
   },
   "source": [
    "Selektiere die Matrix\n",
    "\n",
    "4 9 3  \n",
    "0 1 4"
   ]
  },
  {
   "cell_type": "code",
   "execution_count": 29,
   "metadata": {
    "colab": {
     "base_uri": "https://localhost:8080/"
    },
    "id": "-UkC7fQU1l11",
    "outputId": "9bf2968c-9b7b-4cb6-b7a8-41a20d9a6435"
   },
   "outputs": [
    {
     "data": {
      "text/plain": "array([[4, 9, 3],\n       [0, 1, 4]])"
     },
     "execution_count": 29,
     "metadata": {},
     "output_type": "execute_result"
    }
   ],
   "source": [
    "a[1:3,1:4]"
   ]
  },
  {
   "cell_type": "markdown",
   "metadata": {
    "id": "mTSJ-egA1l11"
   },
   "source": [
    "Ermittle die Spannweite der Elemente von a"
   ]
  },
  {
   "cell_type": "code",
   "execution_count": 30,
   "metadata": {
    "colab": {
     "base_uri": "https://localhost:8080/"
    },
    "id": "ID47XmU21l12",
    "outputId": "e832aa9e-d2b5-4414-da54-589f8e8c0f23"
   },
   "outputs": [
    {
     "data": {
      "text/plain": "9"
     },
     "execution_count": 30,
     "metadata": {},
     "output_type": "execute_result"
    }
   ],
   "source": [
    "np.ptp(a)"
   ]
  },
  {
   "cell_type": "markdown",
   "metadata": {
    "id": "pMNyLBLs1l12"
   },
   "source": [
    "Erzeuge aus a den Output\n",
    "\n",
    "True False True False  \n",
    "False False False False  \n",
    "False True True False"
   ]
  },
  {
   "cell_type": "code",
   "source": [
    "a < 3"
   ],
   "metadata": {
    "colab": {
     "base_uri": "https://localhost:8080/"
    },
    "id": "i81YQrblLdLK",
    "outputId": "ab6e33f1-df5f-449b-8d0d-81882098a590"
   },
   "execution_count": 31,
   "outputs": [
    {
     "data": {
      "text/plain": "array([[ True, False,  True, False],\n       [False, False, False, False],\n       [False,  True,  True, False]])"
     },
     "execution_count": 31,
     "metadata": {},
     "output_type": "execute_result"
    }
   ]
  },
  {
   "cell_type": "markdown",
   "metadata": {
    "id": "RTnWPYYl1l12"
   },
   "source": [
    "Erzeuge aus a das Array\n",
    "\n",
    "`[2, 2, 4, 4, 4, 0, 4]`"
   ]
  },
  {
   "cell_type": "code",
   "execution_count": 32,
   "metadata": {
    "id": "8ecomldM1l13",
    "colab": {
     "base_uri": "https://localhost:8080/"
    },
    "outputId": "46334e80-cea2-42c8-85d0-2dc09ca15163"
   },
   "outputs": [
    {
     "data": {
      "text/plain": "array([2, 2, 4, 4, 4, 0, 4])"
     },
     "execution_count": 32,
     "metadata": {},
     "output_type": "execute_result"
    }
   ],
   "source": [
    "a[a % 2 == 0]"
   ]
  },
  {
   "cell_type": "markdown",
   "metadata": {
    "id": "wpYn4XXu1l13"
   },
   "source": [
    "Erzeuge aus einer `zeros`-Matrix durch Slicing das Array  \n",
    "\n",
    "2 0 1 0  \n",
    "2 0 1 0  \n",
    "2 0 3 3"
   ]
  },
  {
   "cell_type": "code",
   "source": [
    "zeros = np.zeros(shape=(3,4))\n",
    "\n",
    "zeros[0:3,0:1] = 2\n",
    "zeros[0:2,2:3] = 1\n",
    "zeros[2:3,2:4] = 3\n",
    "\n",
    "zeros"
   ],
   "metadata": {
    "colab": {
     "base_uri": "https://localhost:8080/"
    },
    "id": "dUOhao6NM9x5",
    "outputId": "84df26be-4ce9-4408-9041-bd664f8d01a5"
   },
   "execution_count": 33,
   "outputs": [
    {
     "data": {
      "text/plain": "array([[2., 0., 1., 0.],\n       [2., 0., 1., 0.],\n       [2., 0., 3., 3.]])"
     },
     "execution_count": 33,
     "metadata": {},
     "output_type": "execute_result"
    }
   ]
  },
  {
   "cell_type": "markdown",
   "metadata": {
    "id": "wRceBMUw1l13"
   },
   "source": [
    "## Aggregatfunktionen"
   ]
  },
  {
   "cell_type": "markdown",
   "metadata": {
    "id": "DtoD3Mlu1l13"
   },
   "source": [
    "Erzeuge ein Array a mit den Werten  \n",
    "\n",
    " 2 3 2 4  \n",
    " 3 4 9 3  \n",
    " 4 0 1 4"
   ]
  },
  {
   "cell_type": "code",
   "execution_count": 34,
   "metadata": {
    "id": "UcGPOfWS1l14",
    "colab": {
     "base_uri": "https://localhost:8080/"
    },
    "outputId": "e3fd6949-3155-4907-d065-4f145a855e40"
   },
   "outputs": [
    {
     "data": {
      "text/plain": "array([[2, 3, 2, 4],\n       [3, 4, 9, 3],\n       [4, 0, 1, 4]])"
     },
     "execution_count": 34,
     "metadata": {},
     "output_type": "execute_result"
    }
   ],
   "source": [
    "a = np.array([2,3,2,4,3,4,9,3,4,0,1,4])\n",
    "a = a.reshape(3,4)\n",
    "a"
   ]
  },
  {
   "cell_type": "markdown",
   "metadata": {
    "id": "e8i0IyfF1l14"
   },
   "source": [
    "Berechne die Summe aller Werte"
   ]
  },
  {
   "cell_type": "code",
   "execution_count": 35,
   "metadata": {
    "id": "UdN3F7pw1l14",
    "colab": {
     "base_uri": "https://localhost:8080/"
    },
    "outputId": "3431f908-62b8-4a41-b57e-3e26dcce85ee"
   },
   "outputs": [
    {
     "data": {
      "text/plain": "39"
     },
     "execution_count": 35,
     "metadata": {},
     "output_type": "execute_result"
    }
   ],
   "source": [
    "sum = a.sum()\n",
    "sum"
   ]
  },
  {
   "cell_type": "markdown",
   "metadata": {
    "id": "e5nZdjLE1l14"
   },
   "source": [
    "Erzeuge ein Array, welches die Summe jeder Spalte enthält"
   ]
  },
  {
   "cell_type": "code",
   "execution_count": 37,
   "metadata": {
    "id": "vkP3RpoG1l15",
    "colab": {
     "base_uri": "https://localhost:8080/"
    },
    "outputId": "fc9c77d3-5279-4837-85dc-ca55b55fda09"
   },
   "outputs": [
    {
     "data": {
      "text/plain": "array([ 9,  7, 12, 11])"
     },
     "execution_count": 37,
     "metadata": {},
     "output_type": "execute_result"
    }
   ],
   "source": [
    "a.sum(axis=0)"
   ]
  },
  {
   "cell_type": "markdown",
   "metadata": {
    "id": "PCF0bSbC1l15"
   },
   "source": [
    "Erzeuge ein Array, welches das Minimum jeder Zeile enthält"
   ]
  },
  {
   "cell_type": "code",
   "execution_count": 38,
   "metadata": {
    "id": "dOL4UfB81l15",
    "colab": {
     "base_uri": "https://localhost:8080/"
    },
    "outputId": "50427465-9198-4923-f2f8-6e31c485f558"
   },
   "outputs": [
    {
     "data": {
      "text/plain": "array([2, 3, 0])"
     },
     "execution_count": 38,
     "metadata": {},
     "output_type": "execute_result"
    }
   ],
   "source": [
    "a.min(axis=1)"
   ]
  }
 ],
 "metadata": {
  "kernelspec": {
   "display_name": "Python 3",
   "language": "python",
   "name": "python3"
  },
  "language_info": {
   "codemirror_mode": {
    "name": "ipython",
    "version": 3
   },
   "file_extension": ".py",
   "mimetype": "text/x-python",
   "name": "python",
   "nbconvert_exporter": "python",
   "pygments_lexer": "ipython3",
   "version": "3.7.4"
  },
  "colab": {
   "provenance": [],
   "toc_visible": true
  }
 },
 "nbformat": 4,
 "nbformat_minor": 0
}
