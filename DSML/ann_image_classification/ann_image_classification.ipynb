{
 "cells": [
  {
   "cell_type": "code",
   "execution_count": 9,
   "metadata": {
    "collapsed": true
   },
   "outputs": [],
   "source": [
    "import os\n",
    "\n",
    "import numpy as np\n",
    "from keras import Sequential\n",
    "from keras.layers import Dropout, BatchNormalization, Dense, Flatten, MaxPooling2D, Conv2D\n",
    "from datasets import load_dataset\n",
    "from keras_preprocessing.image import ImageDataGenerator\n",
    "import tensorflow as tf\n",
    "from keras.callbacks import EarlyStopping\n",
    "import seaborn as sns\n",
    "import keras_tuner as kt"
   ]
  },
  {
   "cell_type": "code",
   "execution_count": 63,
   "outputs": [
    {
     "name": "stderr",
     "output_type": "stream",
     "text": [
      "Using custom data configuration cmudrc--3d-printed-or-not-c7389bae8477e941\n",
      "Found cached dataset parquet (C:/Users/longb/.cache/huggingface/datasets/cmudrc___parquet/cmudrc--3d-printed-or-not-c7389bae8477e941/0.0.0/2a3b91fbd88a2c90d1dbbb32b460cf621d31bd5b05b934492fdef7d8d6f236ec)\n"
     ]
    },
    {
     "data": {
      "text/plain": "  0%|          | 0/1 [00:00<?, ?it/s]",
      "application/vnd.jupyter.widget-view+json": {
       "version_major": 2,
       "version_minor": 0,
       "model_id": "05a8c67136a144d4a8115fc816cf0a07"
      }
     },
     "metadata": {},
     "output_type": "display_data"
    }
   ],
   "source": [
    "dataset = load_dataset(\"cmudrc/3d-printed-or-not\")"
   ],
   "metadata": {
    "collapsed": false
   }
  },
  {
   "cell_type": "code",
   "execution_count": 14,
   "outputs": [
    {
     "data": {
      "text/plain": "[PhysicalDevice(name='/physical_device:CPU:0', device_type='CPU')]"
     },
     "execution_count": 14,
     "metadata": {},
     "output_type": "execute_result"
    }
   ],
   "source": [
    "tf.config.list_physical_devices()"
   ],
   "metadata": {
    "collapsed": false
   }
  },
  {
   "cell_type": "code",
   "execution_count": 64,
   "outputs": [],
   "source": [
    "train_datagen = ImageDataGenerator(rescale=1 / 255,\n",
    "                                   rotation_range=10,\n",
    "                                   zoom_range=0.1,\n",
    "                                   horizontal_flip=True,\n",
    "                                   validation_split=0.2)\n",
    "test_datagen = ImageDataGenerator(rescale=1 / 255)"
   ],
   "metadata": {
    "collapsed": false
   }
  },
  {
   "cell_type": "code",
   "execution_count": 65,
   "outputs": [
    {
     "name": "stdout",
     "output_type": "stream",
     "text": [
      "Found 7896 images belonging to 11 classes.\n",
      "Found 682 images belonging to 11 classes.\n",
      "Found 3347 images belonging to 11 classes.\n"
     ]
    }
   ],
   "source": [
    "target_size = (64, 64)\n",
    "batch_size = 32\n",
    "train_data_dir = './data/food/training'\n",
    "\n",
    "train_generator = train_datagen.flow_from_directory(train_data_dir, target_size=target_size,\n",
    "                                                    batch_size=batch_size,\n",
    "                                                    class_mode='categorical',\n",
    "                                                    subset='training')\n",
    "\n",
    "validation_generator = train_datagen.flow_from_directory('./data/food/validation', target_size=target_size,\n",
    "                                                         batch_size=batch_size,\n",
    "                                                         class_mode='categorical',\n",
    "                                                         subset='validation')\n",
    "\n",
    "test_generator = test_datagen.flow_from_directory('./data/food/evaluation',\n",
    "                                                  target_size=target_size,\n",
    "                                                  batch_size=batch_size,\n",
    "                                                  shuffle=False,\n",
    "                                                  class_mode='categorical')"
   ],
   "metadata": {
    "collapsed": false
   }
  },
  {
   "cell_type": "code",
   "execution_count": 22,
   "outputs": [],
   "source": [
    "cnn = Sequential([\n",
    "    Conv2D(filters=32, kernel_size=3, activation='relu', input_shape=train_generator.image_shape),\n",
    "    BatchNormalization(),\n",
    "    Conv2D(filters=32, kernel_size=3, activation='relu'),\n",
    "    BatchNormalization(),\n",
    "    MaxPooling2D(pool_size=2),\n",
    "    Dropout(rate=.2),\n",
    "    Conv2D(filters=64, kernel_size=3, activation='relu'),\n",
    "    BatchNormalization(),\n",
    "    Conv2D(filters=64, kernel_size=3, activation='relu'),\n",
    "    BatchNormalization(),\n",
    "    MaxPooling2D(pool_size=2),\n",
    "    Dropout(rate=.2),\n",
    "    Conv2D(filters=128, kernel_size=3, activation='relu'),\n",
    "    BatchNormalization(),\n",
    "    Conv2D(filters=128, kernel_size=3, activation='relu'),\n",
    "    BatchNormalization(),\n",
    "    MaxPooling2D(pool_size=2),\n",
    "    Dropout(rate=.2),\n",
    "    Flatten(),\n",
    "    Dropout(rate=.2),\n",
    "    Dense(units=256, activation='relu'),\n",
    "    BatchNormalization(),\n",
    "    Dropout(rate=.2),\n",
    "    Dense(units=11, activation='softmax')\n",
    "])\n",
    "cnn.compile(optimizer='adam', loss=tf.keras.losses.CategoricalCrossentropy(), metrics='accuracy')"
   ],
   "metadata": {
    "collapsed": false
   }
  },
  {
   "cell_type": "code",
   "execution_count": 66,
   "outputs": [],
   "source": [
    "steps_per_epoch = train_generator.n // train_generator.batch_size\n",
    "validation_steps = validation_generator.n // validation_generator.batch_size"
   ],
   "metadata": {
    "collapsed": false
   }
  },
  {
   "cell_type": "code",
   "execution_count": 23,
   "outputs": [
    {
     "name": "stdout",
     "output_type": "stream",
     "text": [
      "Epoch 1/30\n",
      "246/246 [==============================] - 59s 236ms/step - loss: 2.3632 - accuracy: 0.2525 - val_loss: 3.9878 - val_accuracy: 0.1443\n",
      "Epoch 2/30\n",
      "246/246 [==============================] - 59s 240ms/step - loss: 1.9440 - accuracy: 0.3320 - val_loss: 2.7365 - val_accuracy: 0.2054\n",
      "Epoch 3/30\n",
      "246/246 [==============================] - 60s 243ms/step - loss: 1.8018 - accuracy: 0.3697 - val_loss: 1.8820 - val_accuracy: 0.3839\n",
      "Epoch 4/30\n",
      "246/246 [==============================] - 58s 238ms/step - loss: 1.6823 - accuracy: 0.4138 - val_loss: 1.9106 - val_accuracy: 0.4062\n",
      "Epoch 5/30\n",
      "246/246 [==============================] - 60s 242ms/step - loss: 1.5775 - accuracy: 0.4589 - val_loss: 1.6060 - val_accuracy: 0.4345\n",
      "Epoch 6/30\n",
      "246/246 [==============================] - 58s 236ms/step - loss: 1.4883 - accuracy: 0.4893 - val_loss: 1.7779 - val_accuracy: 0.3973\n",
      "Epoch 7/30\n",
      "246/246 [==============================] - 59s 241ms/step - loss: 1.4161 - accuracy: 0.5113 - val_loss: 1.4625 - val_accuracy: 0.4911\n",
      "Epoch 8/30\n",
      "246/246 [==============================] - 58s 238ms/step - loss: 1.3687 - accuracy: 0.5244 - val_loss: 1.5384 - val_accuracy: 0.4688\n",
      "Epoch 9/30\n",
      "246/246 [==============================] - 59s 238ms/step - loss: 1.2968 - accuracy: 0.5467 - val_loss: 1.5573 - val_accuracy: 0.4762\n",
      "Epoch 10/30\n",
      "246/246 [==============================] - 59s 242ms/step - loss: 1.2546 - accuracy: 0.5660 - val_loss: 1.3551 - val_accuracy: 0.5461\n",
      "Epoch 11/30\n",
      "246/246 [==============================] - 59s 239ms/step - loss: 1.1848 - accuracy: 0.5891 - val_loss: 1.5634 - val_accuracy: 0.5030\n",
      "Epoch 12/30\n",
      "246/246 [==============================] - 59s 238ms/step - loss: 1.1524 - accuracy: 0.6010 - val_loss: 1.3231 - val_accuracy: 0.5417\n",
      "Epoch 13/30\n",
      "246/246 [==============================] - 58s 236ms/step - loss: 1.0990 - accuracy: 0.6169 - val_loss: 1.7058 - val_accuracy: 0.4658\n",
      "Epoch 14/30\n",
      "246/246 [==============================] - 57s 233ms/step - loss: 1.0886 - accuracy: 0.6241 - val_loss: 1.3067 - val_accuracy: 0.5565\n",
      "Epoch 15/30\n",
      "246/246 [==============================] - 58s 235ms/step - loss: 1.0338 - accuracy: 0.6495 - val_loss: 1.3239 - val_accuracy: 0.5565\n",
      "Epoch 16/30\n",
      "246/246 [==============================] - 58s 235ms/step - loss: 1.0003 - accuracy: 0.6536 - val_loss: 1.4888 - val_accuracy: 0.5208\n",
      "Epoch 17/30\n",
      "246/246 [==============================] - 56s 228ms/step - loss: 0.9742 - accuracy: 0.6610 - val_loss: 1.2444 - val_accuracy: 0.5938\n",
      "Epoch 18/30\n",
      "246/246 [==============================] - 58s 234ms/step - loss: 0.9227 - accuracy: 0.6803 - val_loss: 1.3446 - val_accuracy: 0.5402\n",
      "Epoch 19/30\n",
      "246/246 [==============================] - 58s 236ms/step - loss: 0.9093 - accuracy: 0.6862 - val_loss: 1.4954 - val_accuracy: 0.5119\n",
      "Epoch 20/30\n",
      "246/246 [==============================] - 57s 231ms/step - loss: 0.8789 - accuracy: 0.6974 - val_loss: 1.2109 - val_accuracy: 0.5893\n",
      "Epoch 21/30\n",
      "246/246 [==============================] - 60s 244ms/step - loss: 0.8603 - accuracy: 0.7024 - val_loss: 1.1849 - val_accuracy: 0.5923\n",
      "Epoch 22/30\n",
      "246/246 [==============================] - 58s 236ms/step - loss: 0.8414 - accuracy: 0.7079 - val_loss: 1.2007 - val_accuracy: 0.5997\n",
      "Epoch 23/30\n",
      "246/246 [==============================] - 58s 236ms/step - loss: 0.8090 - accuracy: 0.7146 - val_loss: 1.3614 - val_accuracy: 0.5640\n",
      "Epoch 24/30\n",
      "246/246 [==============================] - 57s 234ms/step - loss: 0.7758 - accuracy: 0.7346 - val_loss: 1.2933 - val_accuracy: 0.5714\n",
      "Epoch 25/30\n",
      "246/246 [==============================] - 58s 236ms/step - loss: 0.7625 - accuracy: 0.7336 - val_loss: 1.1852 - val_accuracy: 0.6042\n",
      "Epoch 26/30\n",
      "246/246 [==============================] - 58s 238ms/step - loss: 0.7607 - accuracy: 0.7300 - val_loss: 1.4752 - val_accuracy: 0.5521\n",
      "Epoch 27/30\n",
      "246/246 [==============================] - 59s 238ms/step - loss: 0.7133 - accuracy: 0.7522 - val_loss: 1.2972 - val_accuracy: 0.6042\n",
      "Epoch 28/30\n",
      "246/246 [==============================] - 56s 229ms/step - loss: 0.6942 - accuracy: 0.7575 - val_loss: 1.2581 - val_accuracy: 0.5997\n",
      "Epoch 29/30\n",
      "246/246 [==============================] - 58s 235ms/step - loss: 0.6675 - accuracy: 0.7670 - val_loss: 1.4647 - val_accuracy: 0.5938\n",
      "Epoch 30/30\n",
      "246/246 [==============================] - 58s 237ms/step - loss: 0.6566 - accuracy: 0.7733 - val_loss: 1.4120 - val_accuracy: 0.5744\n"
     ]
    }
   ],
   "source": [
    "callbacks = [\n",
    "    EarlyStopping(min_delta=.005, monitor='val_accuracy', patience=10, restore_best_weights=True)\n",
    "]\n",
    "\n",
    "history = cnn.fit(train_generator,\n",
    "                  steps_per_epoch=steps_per_epoch,\n",
    "                  batch_size=32,\n",
    "                  epochs=30,\n",
    "                  workers=-1,\n",
    "                  callbacks=callbacks,\n",
    "                  validation_data=validation_generator,\n",
    "                  validation_steps=validation_steps)"
   ],
   "metadata": {
    "collapsed": false
   }
  },
  {
   "cell_type": "code",
   "execution_count": 24,
   "outputs": [
    {
     "data": {
      "text/plain": "<AxesSubplot: >"
     },
     "execution_count": 24,
     "metadata": {},
     "output_type": "execute_result"
    },
    {
     "data": {
      "text/plain": "<Figure size 640x480 with 1 Axes>",
      "image/png": "[encoded data removed]"
     },
     "metadata": {},
     "output_type": "display_data"
    }
   ],
   "source": [
    "sns.lineplot(data=history.history)"
   ],
   "metadata": {
    "collapsed": false
   }
  },
  {
   "cell_type": "markdown",
   "source": [
    "### Hyperparam"
   ],
   "metadata": {
    "collapsed": false
   }
  },
  {
   "cell_type": "code",
   "execution_count": 16,
   "outputs": [],
   "source": [
    "def create_model(hp: kt.HyperParameters):\n",
    "    model = Sequential()\n",
    "    dropout = hp.Float('dropout', min_value=0.2, max_value=0.5, step=0.1)\n",
    "    first_filters = hp.Choice('first_filters', values=[16, 32, 64])\n",
    "    conv_layers = hp.Int('conv_layers', min_value=1, max_value=4, step=1)\n",
    "    activation = hp.Choice('activation', values=('relu', 'tanh'))\n",
    "\n",
    "    for i in range(conv_layers):\n",
    "        model.add(Conv2D(filters=2 ** i * first_filters, kernel_size=3, activation=activation))\n",
    "        model.add(BatchNormalization())\n",
    "        model.add(Conv2D(filters=2 ** i * first_filters, kernel_size=3, activation=activation))\n",
    "        model.add(BatchNormalization())\n",
    "        model.add(MaxPooling2D(pool_size=2))\n",
    "        model.add(Dropout(rate=dropout))\n",
    "\n",
    "    model.add(Flatten())\n",
    "    model.add(Dropout(rate=dropout))\n",
    "\n",
    "    dense_layers = hp.Int('dense_layers', min_value=1, max_value=4, step=1)\n",
    "    dense_units = hp.Choice('dense_units', values=[64, 128, 256])\n",
    "\n",
    "    for i in range(dense_layers):\n",
    "        model.add(Dense(units=dense_units, activation=activation))\n",
    "        model.add(BatchNormalization())\n",
    "        model.add(Dropout(rate=dropout))\n",
    "\n",
    "    model.add(Dense(units=11, activation='softmax'))\n",
    "\n",
    "    model.compile(optimizer='adam',\n",
    "                  loss='categorical_crossentropy',\n",
    "                  metrics=['accuracy'])\n",
    "\n",
    "    return model"
   ],
   "metadata": {
    "collapsed": false
   }
  },
  {
   "cell_type": "code",
   "execution_count": 19,
   "outputs": [
    {
     "name": "stdout",
     "output_type": "stream",
     "text": [
      "Trial 22 Complete [00h 00m 02s]\n",
      "\n",
      "Best val_accuracy So Far: 0.519345223903656\n",
      "Total elapsed time: 00h 49m 21s\n",
      "INFO:tensorflow:Oracle triggered exit\n"
     ]
    }
   ],
   "source": [
    "tuner = kt.Hyperband(create_model,\n",
    "                     objective='val_accuracy',\n",
    "                     max_epochs=10,\n",
    "                     directory=os.path.normpath('D:\\githubRePos\\Java5Klasse\\DSML\\\\ann_image_classification\\data'),\n",
    "                     project_name='foodmodel')\n",
    "\n",
    "callbacks = [\n",
    "    EarlyStopping(monitor='val_loss', patience=10)\n",
    "]\n",
    "\n",
    "tuner.search(train_generator,\n",
    "             steps_per_epoch=steps_per_epoch,\n",
    "             epochs=20,\n",
    "             callbacks=callbacks,\n",
    "             validation_data=validation_generator,\n",
    "             validation_steps=validation_steps)"
   ],
   "metadata": {
    "collapsed": false
   }
  },
  {
   "cell_type": "code",
   "execution_count": 81,
   "outputs": [
    {
     "data": {
      "text/plain": "<tensorflow.python.checkpoint.checkpoint.CheckpointLoadStatus at 0x14fb00cccd0>"
     },
     "execution_count": 81,
     "metadata": {},
     "output_type": "execute_result"
    }
   ],
   "source": [
    "mod = create_model(tuner.get_best_hyperparameters(1)[0])\n",
    "\n",
    "mod.load_weights(tf.train.latest_checkpoint('D:\\githubRePos\\Java5Klasse\\DSML\\\\ann_image_classification\\data\\\\foodmodel\\\\trial_0020'))"
   ],
   "metadata": {
    "collapsed": false
   }
  },
  {
   "cell_type": "code",
   "execution_count": 84,
   "outputs": [],
   "source": [
    "labels = ['Bread'\n",
    "          'Dairy product'\n",
    "          'Dessert'\n",
    "          'Egg'\n",
    "          'Fried food'\n",
    "          'Meat'\n",
    "          'Noodles-Pasta'\n",
    "          'Rice'\n",
    "          'Seafood'\n",
    "          'Soup'\n",
    "          'Vegetable-Fruit']\n",
    "\n",
    "def beautify_prediction(prediction):\n",
    "    max = 0\n",
    "    maxIdx = 0\n",
    "    for idx, i in enumerate(prediction[0]):\n",
    "        print(f'{labels[idx]:>15s} {i:.2f}')\n",
    "        if(i > max):\n",
    "            max = i\n",
    "            maxIdx = idx\n",
    "    print(\"The image contains a \" + labels[maxIdx])"
   ],
   "metadata": {
    "collapsed": false
   }
  },
  {
   "cell_type": "code",
   "execution_count": 85,
   "outputs": [],
   "source": [
    "from keras.preprocessing import image\n",
    "def prepare_image(path):\n",
    "    i = image.image_utils.load_img(path, target_size=target_size)\n",
    "    image_array = image.image_utils.img_to_array(i)\n",
    "    return np.expand_dims(image_array, axis=0)"
   ],
   "metadata": {
    "collapsed": false
   }
  },
  {
   "cell_type": "code",
   "execution_count": 91,
   "outputs": [
    {
     "ename": "InvalidArgumentError",
     "evalue": "Graph execution error:\n\nDetected at node 'sequential_11/flatten_10/Reshape' defined at (most recent call last):\n    File \"C:\\Users\\longb\\anaconda3\\envs\\dsai\\lib\\runpy.py\", line 197, in _run_module_as_main\n      return _run_code(code, main_globals, None,\n    File \"C:\\Users\\longb\\anaconda3\\envs\\dsai\\lib\\runpy.py\", line 87, in _run_code\n      exec(code, run_globals)\n    File \"C:\\Users\\longb\\anaconda3\\envs\\dsai\\lib\\site-packages\\ipykernel_launcher.py\", line 17, in <module>\n      app.launch_new_instance()\n    File \"C:\\Users\\longb\\anaconda3\\envs\\dsai\\lib\\site-packages\\traitlets\\config\\application.py\", line 992, in launch_instance\n      app.start()\n    File \"C:\\Users\\longb\\anaconda3\\envs\\dsai\\lib\\site-packages\\ipykernel\\kernelapp.py\", line 711, in start\n      self.io_loop.start()\n    File \"C:\\Users\\longb\\anaconda3\\envs\\dsai\\lib\\site-packages\\tornado\\platform\\asyncio.py\", line 215, in start\n      self.asyncio_loop.run_forever()\n    File \"C:\\Users\\longb\\anaconda3\\envs\\dsai\\lib\\asyncio\\base_events.py\", line 601, in run_forever\n      self._run_once()\n    File \"C:\\Users\\longb\\anaconda3\\envs\\dsai\\lib\\asyncio\\base_events.py\", line 1905, in _run_once\n      handle._run()\n    File \"C:\\Users\\longb\\anaconda3\\envs\\dsai\\lib\\asyncio\\events.py\", line 80, in _run\n      self._context.run(self._callback, *self._args)\n    File \"C:\\Users\\longb\\anaconda3\\envs\\dsai\\lib\\site-packages\\ipykernel\\kernelbase.py\", line 510, in dispatch_queue\n      await self.process_one()\n    File \"C:\\Users\\longb\\anaconda3\\envs\\dsai\\lib\\site-packages\\ipykernel\\kernelbase.py\", line 499, in process_one\n      await dispatch(*args)\n    File \"C:\\Users\\longb\\anaconda3\\envs\\dsai\\lib\\site-packages\\ipykernel\\kernelbase.py\", line 406, in dispatch_shell\n      await result\n    File \"C:\\Users\\longb\\anaconda3\\envs\\dsai\\lib\\site-packages\\ipykernel\\kernelbase.py\", line 729, in execute_request\n      reply_content = await reply_content\n    File \"C:\\Users\\longb\\anaconda3\\envs\\dsai\\lib\\site-packages\\ipykernel\\ipkernel.py\", line 411, in do_execute\n      res = shell.run_cell(\n    File \"C:\\Users\\longb\\anaconda3\\envs\\dsai\\lib\\site-packages\\ipykernel\\zmqshell.py\", line 531, in run_cell\n      return super().run_cell(*args, **kwargs)\n    File \"C:\\Users\\longb\\anaconda3\\envs\\dsai\\lib\\site-packages\\IPython\\core\\interactiveshell.py\", line 2961, in run_cell\n      result = self._run_cell(\n    File \"C:\\Users\\longb\\anaconda3\\envs\\dsai\\lib\\site-packages\\IPython\\core\\interactiveshell.py\", line 3016, in _run_cell\n      result = runner(coro)\n    File \"C:\\Users\\longb\\anaconda3\\envs\\dsai\\lib\\site-packages\\IPython\\core\\async_helpers.py\", line 129, in _pseudo_sync_runner\n      coro.send(None)\n    File \"C:\\Users\\longb\\anaconda3\\envs\\dsai\\lib\\site-packages\\IPython\\core\\interactiveshell.py\", line 3221, in run_cell_async\n      has_raised = await self.run_ast_nodes(code_ast.body, cell_name,\n    File \"C:\\Users\\longb\\anaconda3\\envs\\dsai\\lib\\site-packages\\IPython\\core\\interactiveshell.py\", line 3400, in run_ast_nodes\n      if await self.run_code(code, result, async_=asy):\n    File \"C:\\Users\\longb\\anaconda3\\envs\\dsai\\lib\\site-packages\\IPython\\core\\interactiveshell.py\", line 3460, in run_code\n      exec(code_obj, self.user_global_ns, self.user_ns)\n    File \"C:\\Users\\longb\\AppData\\Local\\Temp\\ipykernel_31896\\2644002042.py\", line 2, in <module>\n      beautify_prediction(mod.predict(img))\n    File \"C:\\Users\\longb\\anaconda3\\envs\\dsai\\lib\\site-packages\\keras\\utils\\traceback_utils.py\", line 65, in error_handler\n      return fn(*args, **kwargs)\n    File \"C:\\Users\\longb\\anaconda3\\envs\\dsai\\lib\\site-packages\\keras\\engine\\training.py\", line 2253, in predict\n      tmp_batch_outputs = self.predict_function(iterator)\n    File \"C:\\Users\\longb\\anaconda3\\envs\\dsai\\lib\\site-packages\\keras\\engine\\training.py\", line 2041, in predict_function\n      return step_function(self, iterator)\n    File \"C:\\Users\\longb\\anaconda3\\envs\\dsai\\lib\\site-packages\\keras\\engine\\training.py\", line 2027, in step_function\n      outputs = model.distribute_strategy.run(run_step, args=(data,))\n    File \"C:\\Users\\longb\\anaconda3\\envs\\dsai\\lib\\site-packages\\keras\\engine\\training.py\", line 2015, in run_step\n      outputs = model.predict_step(data)\n    File \"C:\\Users\\longb\\anaconda3\\envs\\dsai\\lib\\site-packages\\keras\\engine\\training.py\", line 1983, in predict_step\n      return self(x, training=False)\n    File \"C:\\Users\\longb\\anaconda3\\envs\\dsai\\lib\\site-packages\\keras\\utils\\traceback_utils.py\", line 65, in error_handler\n      return fn(*args, **kwargs)\n    File \"C:\\Users\\longb\\anaconda3\\envs\\dsai\\lib\\site-packages\\keras\\engine\\training.py\", line 557, in __call__\n      return super().__call__(*args, **kwargs)\n    File \"C:\\Users\\longb\\anaconda3\\envs\\dsai\\lib\\site-packages\\keras\\utils\\traceback_utils.py\", line 65, in error_handler\n      return fn(*args, **kwargs)\n    File \"C:\\Users\\longb\\anaconda3\\envs\\dsai\\lib\\site-packages\\keras\\engine\\base_layer.py\", line 1097, in __call__\n      outputs = call_fn(inputs, *args, **kwargs)\n    File \"C:\\Users\\longb\\anaconda3\\envs\\dsai\\lib\\site-packages\\keras\\utils\\traceback_utils.py\", line 96, in error_handler\n      return fn(*args, **kwargs)\n    File \"C:\\Users\\longb\\anaconda3\\envs\\dsai\\lib\\site-packages\\keras\\engine\\sequential.py\", line 410, in call\n      return super().call(inputs, training=training, mask=mask)\n    File \"C:\\Users\\longb\\anaconda3\\envs\\dsai\\lib\\site-packages\\keras\\engine\\functional.py\", line 510, in call\n      return self._run_internal_graph(inputs, training=training, mask=mask)\n    File \"C:\\Users\\longb\\anaconda3\\envs\\dsai\\lib\\site-packages\\keras\\engine\\functional.py\", line 667, in _run_internal_graph\n      outputs = node.layer(*args, **kwargs)\n    File \"C:\\Users\\longb\\anaconda3\\envs\\dsai\\lib\\site-packages\\keras\\utils\\traceback_utils.py\", line 65, in error_handler\n      return fn(*args, **kwargs)\n    File \"C:\\Users\\longb\\anaconda3\\envs\\dsai\\lib\\site-packages\\keras\\engine\\base_layer.py\", line 1097, in __call__\n      outputs = call_fn(inputs, *args, **kwargs)\n    File \"C:\\Users\\longb\\anaconda3\\envs\\dsai\\lib\\site-packages\\keras\\utils\\traceback_utils.py\", line 96, in error_handler\n      return fn(*args, **kwargs)\n    File \"C:\\Users\\longb\\anaconda3\\envs\\dsai\\lib\\site-packages\\keras\\layers\\reshaping\\flatten.py\", line 104, in call\n      return tf.reshape(inputs, flattened_shape)\nNode: 'sequential_11/flatten_10/Reshape'\nInput to reshape is a tensor with 14400 values, but the requested shape requires a multiple of 28800\n\t [[{{node sequential_11/flatten_10/Reshape}}]] [Op:__inference_predict_function_169321]",
     "output_type": "error",
     "traceback": [
      "\u001B[1;31m---------------------------------------------------------------------------\u001B[0m",
      "\u001B[1;31mInvalidArgumentError\u001B[0m                      Traceback (most recent call last)",
      "Cell \u001B[1;32mIn[91], line 2\u001B[0m\n\u001B[0;32m      1\u001B[0m img \u001B[38;5;241m=\u001B[39m prepare_image(\u001B[38;5;124m\"\u001B[39m\u001B[38;5;124m./data/myImage/bread2.jpg\u001B[39m\u001B[38;5;124m\"\u001B[39m)\n\u001B[1;32m----> 2\u001B[0m beautify_prediction(\u001B[43mmod\u001B[49m\u001B[38;5;241;43m.\u001B[39;49m\u001B[43mpredict\u001B[49m\u001B[43m(\u001B[49m\u001B[43mimg\u001B[49m\u001B[43m)\u001B[49m)\n",
      "File \u001B[1;32m~\\anaconda3\\envs\\dsai\\lib\\site-packages\\keras\\utils\\traceback_utils.py:70\u001B[0m, in \u001B[0;36mfilter_traceback.<locals>.error_handler\u001B[1;34m(*args, **kwargs)\u001B[0m\n\u001B[0;32m     67\u001B[0m     filtered_tb \u001B[38;5;241m=\u001B[39m _process_traceback_frames(e\u001B[38;5;241m.\u001B[39m__traceback__)\n\u001B[0;32m     68\u001B[0m     \u001B[38;5;66;03m# To get the full stack trace, call:\u001B[39;00m\n\u001B[0;32m     69\u001B[0m     \u001B[38;5;66;03m# `tf.debugging.disable_traceback_filtering()`\u001B[39;00m\n\u001B[1;32m---> 70\u001B[0m     \u001B[38;5;28;01mraise\u001B[39;00m e\u001B[38;5;241m.\u001B[39mwith_traceback(filtered_tb) \u001B[38;5;28;01mfrom\u001B[39;00m \u001B[38;5;28mNone\u001B[39m\n\u001B[0;32m     71\u001B[0m \u001B[38;5;28;01mfinally\u001B[39;00m:\n\u001B[0;32m     72\u001B[0m     \u001B[38;5;28;01mdel\u001B[39;00m filtered_tb\n",
      "File \u001B[1;32m~\\anaconda3\\envs\\dsai\\lib\\site-packages\\tensorflow\\python\\eager\\execute.py:54\u001B[0m, in \u001B[0;36mquick_execute\u001B[1;34m(op_name, num_outputs, inputs, attrs, ctx, name)\u001B[0m\n\u001B[0;32m     52\u001B[0m \u001B[38;5;28;01mtry\u001B[39;00m:\n\u001B[0;32m     53\u001B[0m   ctx\u001B[38;5;241m.\u001B[39mensure_initialized()\n\u001B[1;32m---> 54\u001B[0m   tensors \u001B[38;5;241m=\u001B[39m pywrap_tfe\u001B[38;5;241m.\u001B[39mTFE_Py_Execute(ctx\u001B[38;5;241m.\u001B[39m_handle, device_name, op_name,\n\u001B[0;32m     55\u001B[0m                                       inputs, attrs, num_outputs)\n\u001B[0;32m     56\u001B[0m \u001B[38;5;28;01mexcept\u001B[39;00m core\u001B[38;5;241m.\u001B[39m_NotOkStatusException \u001B[38;5;28;01mas\u001B[39;00m e:\n\u001B[0;32m     57\u001B[0m   \u001B[38;5;28;01mif\u001B[39;00m name \u001B[38;5;129;01mis\u001B[39;00m \u001B[38;5;129;01mnot\u001B[39;00m \u001B[38;5;28;01mNone\u001B[39;00m:\n",
      "\u001B[1;31mInvalidArgumentError\u001B[0m: Graph execution error:\n\nDetected at node 'sequential_11/flatten_10/Reshape' defined at (most recent call last):\n    File \"C:\\Users\\longb\\anaconda3\\envs\\dsai\\lib\\runpy.py\", line 197, in _run_module_as_main\n      return _run_code(code, main_globals, None,\n    File \"C:\\Users\\longb\\anaconda3\\envs\\dsai\\lib\\runpy.py\", line 87, in _run_code\n      exec(code, run_globals)\n    File \"C:\\Users\\longb\\anaconda3\\envs\\dsai\\lib\\site-packages\\ipykernel_launcher.py\", line 17, in <module>\n      app.launch_new_instance()\n    File \"C:\\Users\\longb\\anaconda3\\envs\\dsai\\lib\\site-packages\\traitlets\\config\\application.py\", line 992, in launch_instance\n      app.start()\n    File \"C:\\Users\\longb\\anaconda3\\envs\\dsai\\lib\\site-packages\\ipykernel\\kernelapp.py\", line 711, in start\n      self.io_loop.start()\n    File \"C:\\Users\\longb\\anaconda3\\envs\\dsai\\lib\\site-packages\\tornado\\platform\\asyncio.py\", line 215, in start\n      self.asyncio_loop.run_forever()\n    File \"C:\\Users\\longb\\anaconda3\\envs\\dsai\\lib\\asyncio\\base_events.py\", line 601, in run_forever\n      self._run_once()\n    File \"C:\\Users\\longb\\anaconda3\\envs\\dsai\\lib\\asyncio\\base_events.py\", line 1905, in _run_once\n      handle._run()\n    File \"C:\\Users\\longb\\anaconda3\\envs\\dsai\\lib\\asyncio\\events.py\", line 80, in _run\n      self._context.run(self._callback, *self._args)\n    File \"C:\\Users\\longb\\anaconda3\\envs\\dsai\\lib\\site-packages\\ipykernel\\kernelbase.py\", line 510, in dispatch_queue\n      await self.process_one()\n    File \"C:\\Users\\longb\\anaconda3\\envs\\dsai\\lib\\site-packages\\ipykernel\\kernelbase.py\", line 499, in process_one\n      await dispatch(*args)\n    File \"C:\\Users\\longb\\anaconda3\\envs\\dsai\\lib\\site-packages\\ipykernel\\kernelbase.py\", line 406, in dispatch_shell\n      await result\n    File \"C:\\Users\\longb\\anaconda3\\envs\\dsai\\lib\\site-packages\\ipykernel\\kernelbase.py\", line 729, in execute_request\n      reply_content = await reply_content\n    File \"C:\\Users\\longb\\anaconda3\\envs\\dsai\\lib\\site-packages\\ipykernel\\ipkernel.py\", line 411, in do_execute\n      res = shell.run_cell(\n    File \"C:\\Users\\longb\\anaconda3\\envs\\dsai\\lib\\site-packages\\ipykernel\\zmqshell.py\", line 531, in run_cell\n      return super().run_cell(*args, **kwargs)\n    File \"C:\\Users\\longb\\anaconda3\\envs\\dsai\\lib\\site-packages\\IPython\\core\\interactiveshell.py\", line 2961, in run_cell\n      result = self._run_cell(\n    File \"C:\\Users\\longb\\anaconda3\\envs\\dsai\\lib\\site-packages\\IPython\\core\\interactiveshell.py\", line 3016, in _run_cell\n      result = runner(coro)\n    File \"C:\\Users\\longb\\anaconda3\\envs\\dsai\\lib\\site-packages\\IPython\\core\\async_helpers.py\", line 129, in _pseudo_sync_runner\n      coro.send(None)\n    File \"C:\\Users\\longb\\anaconda3\\envs\\dsai\\lib\\site-packages\\IPython\\core\\interactiveshell.py\", line 3221, in run_cell_async\n      has_raised = await self.run_ast_nodes(code_ast.body, cell_name,\n    File \"C:\\Users\\longb\\anaconda3\\envs\\dsai\\lib\\site-packages\\IPython\\core\\interactiveshell.py\", line 3400, in run_ast_nodes\n      if await self.run_code(code, result, async_=asy):\n    File \"C:\\Users\\longb\\anaconda3\\envs\\dsai\\lib\\site-packages\\IPython\\core\\interactiveshell.py\", line 3460, in run_code\n      exec(code_obj, self.user_global_ns, self.user_ns)\n    File \"C:\\Users\\longb\\AppData\\Local\\Temp\\ipykernel_31896\\2644002042.py\", line 2, in <module>\n      beautify_prediction(mod.predict(img))\n    File \"C:\\Users\\longb\\anaconda3\\envs\\dsai\\lib\\site-packages\\keras\\utils\\traceback_utils.py\", line 65, in error_handler\n      return fn(*args, **kwargs)\n    File \"C:\\Users\\longb\\anaconda3\\envs\\dsai\\lib\\site-packages\\keras\\engine\\training.py\", line 2253, in predict\n      tmp_batch_outputs = self.predict_function(iterator)\n    File \"C:\\Users\\longb\\anaconda3\\envs\\dsai\\lib\\site-packages\\keras\\engine\\training.py\", line 2041, in predict_function\n      return step_function(self, iterator)\n    File \"C:\\Users\\longb\\anaconda3\\envs\\dsai\\lib\\site-packages\\keras\\engine\\training.py\", line 2027, in step_function\n      outputs = model.distribute_strategy.run(run_step, args=(data,))\n    File \"C:\\Users\\longb\\anaconda3\\envs\\dsai\\lib\\site-packages\\keras\\engine\\training.py\", line 2015, in run_step\n      outputs = model.predict_step(data)\n    File \"C:\\Users\\longb\\anaconda3\\envs\\dsai\\lib\\site-packages\\keras\\engine\\training.py\", line 1983, in predict_step\n      return self(x, training=False)\n    File \"C:\\Users\\longb\\anaconda3\\envs\\dsai\\lib\\site-packages\\keras\\utils\\traceback_utils.py\", line 65, in error_handler\n      return fn(*args, **kwargs)\n    File \"C:\\Users\\longb\\anaconda3\\envs\\dsai\\lib\\site-packages\\keras\\engine\\training.py\", line 557, in __call__\n      return super().__call__(*args, **kwargs)\n    File \"C:\\Users\\longb\\anaconda3\\envs\\dsai\\lib\\site-packages\\keras\\utils\\traceback_utils.py\", line 65, in error_handler\n      return fn(*args, **kwargs)\n    File \"C:\\Users\\longb\\anaconda3\\envs\\dsai\\lib\\site-packages\\keras\\engine\\base_layer.py\", line 1097, in __call__\n      outputs = call_fn(inputs, *args, **kwargs)\n    File \"C:\\Users\\longb\\anaconda3\\envs\\dsai\\lib\\site-packages\\keras\\utils\\traceback_utils.py\", line 96, in error_handler\n      return fn(*args, **kwargs)\n    File \"C:\\Users\\longb\\anaconda3\\envs\\dsai\\lib\\site-packages\\keras\\engine\\sequential.py\", line 410, in call\n      return super().call(inputs, training=training, mask=mask)\n    File \"C:\\Users\\longb\\anaconda3\\envs\\dsai\\lib\\site-packages\\keras\\engine\\functional.py\", line 510, in call\n      return self._run_internal_graph(inputs, training=training, mask=mask)\n    File \"C:\\Users\\longb\\anaconda3\\envs\\dsai\\lib\\site-packages\\keras\\engine\\functional.py\", line 667, in _run_internal_graph\n      outputs = node.layer(*args, **kwargs)\n    File \"C:\\Users\\longb\\anaconda3\\envs\\dsai\\lib\\site-packages\\keras\\utils\\traceback_utils.py\", line 65, in error_handler\n      return fn(*args, **kwargs)\n    File \"C:\\Users\\longb\\anaconda3\\envs\\dsai\\lib\\site-packages\\keras\\engine\\base_layer.py\", line 1097, in __call__\n      outputs = call_fn(inputs, *args, **kwargs)\n    File \"C:\\Users\\longb\\anaconda3\\envs\\dsai\\lib\\site-packages\\keras\\utils\\traceback_utils.py\", line 96, in error_handler\n      return fn(*args, **kwargs)\n    File \"C:\\Users\\longb\\anaconda3\\envs\\dsai\\lib\\site-packages\\keras\\layers\\reshaping\\flatten.py\", line 104, in call\n      return tf.reshape(inputs, flattened_shape)\nNode: 'sequential_11/flatten_10/Reshape'\nInput to reshape is a tensor with 14400 values, but the requested shape requires a multiple of 28800\n\t [[{{node sequential_11/flatten_10/Reshape}}]] [Op:__inference_predict_function_169321]"
     ]
    }
   ],
   "source": [
    "img = prepare_image(\"./data/myImage/bread2.jpg\")\n",
    "beautify_prediction(mod.predict(img))"
   ],
   "metadata": {
    "collapsed": false
   }
  },
  {
   "cell_type": "markdown",
   "source": [
    "Ich bin ehrlich, ich hab keine Ahnung was mein Fehler ist. Ich hab jetzt locker 4 Stunden probiert und keine Lösung gefunden. Ich gebe auf."
   ],
   "metadata": {
    "collapsed": false
   }
  }
 ],
 "metadata": {
  "kernelspec": {
   "display_name": "Python 3",
   "language": "python",
   "name": "python3"
  },
  "language_info": {
   "codemirror_mode": {
    "name": "ipython",
    "version": 2
   },
   "file_extension": ".py",
   "mimetype": "text/x-python",
   "name": "python",
   "nbconvert_exporter": "python",
   "pygments_lexer": "ipython2",
   "version": "2.7.6"
  }
 },
 "nbformat": 4,
 "nbformat_minor": 0
}
