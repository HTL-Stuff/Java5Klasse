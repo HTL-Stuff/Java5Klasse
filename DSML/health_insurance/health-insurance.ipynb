{
 "cells": [
  {
   "cell_type": "code",
   "execution_count": 252,
   "metadata": {},
   "outputs": [],
   "source": [
    "import numpy as np\n",
    "import pandas as pd\n",
    "from sklearn.base import TransformerMixin, BaseEstimator\n",
    "from sklearn.compose import ColumnTransformer\n",
    "from sklearn.experimental import enable_iterative_imputer\n",
    "from sklearn.impute import SimpleImputer, IterativeImputer\n",
    "from sklearn.metrics import classification_report, confusion_matrix\n",
    "from sklearn.model_selection import train_test_split\n",
    "from sklearn.pipeline import Pipeline\n",
    "from sklearn.preprocessing import OneHotEncoder, RobustScaler, FunctionTransformer\n",
    "from sklearn.utils import class_weight\n",
    "from sklearn.linear_model import LogisticRegression\n",
    "from sklearn.model_selection import GridSearchCV\n",
    "from keras.callbacks import EarlyStopping\n",
    "from tensorflow import keras\n",
    "from keras.layers import Dense, BatchNormalization\n",
    "from keras import Sequential\n",
    "import seaborn as sns\n",
    "from sklearn import metrics\n",
    "\n",
    "\n",
    "\n",
    "class StripTransformer(BaseEstimator, TransformerMixin):\n",
    "\n",
    "    def __init__(self, columns):\n",
    "        self.columns = columns\n",
    "\n",
    "    def fit(self, X, y=None):\n",
    "        return self\n",
    "\n",
    "    def transform(self, X, y=None):\n",
    "        for column in self.columns:\n",
    "            X[column] = X[column].map(lambda x: str(x).lstrip('XC'))\n",
    "        return X\n",
    "\n",
    "\n",
    "def check_for_14_p(y):\n",
    "    print(y)\n",
    "    if y == \"14+\":\n",
    "        return \"15\"\n",
    "    return y\n",
    "\n",
    "\n",
    "class Make14PTo15Transformer(BaseEstimator, TransformerMixin):\n",
    "    def __init__(self, columns):\n",
    "        self.columns = columns\n",
    "\n",
    "    def fit(self, X, y=None):\n",
    "        return self\n",
    "\n",
    "    def transform(self, X, y=None):\n",
    "        for column in self.columns:\n",
    "            X[column] = X[column].map(lambda x: x if x != \"14+\" else \"15\")\n",
    "            return X"
   ]
  },
  {
   "cell_type": "markdown",
   "metadata": {},
   "source": [
    "Your Client FinMan is a financial services company that provides various financial services like loan, investment funds, insurance etc. to its customers. FinMan wishes to cross-sell health insurance to the existing customers who may or may not hold insurance policies with the company. The company recommend health insurance to it's customers based on their profile once these customers land on the website. Customers might browse the recommended health insurance policy and consequently fill up a form to apply. When these customers fill-up the form, their Response towards the policy is considered positive and they are classified as a lead.\n",
    "\n",
    "Once these leads are acquired, the sales advisors approach them to convert and thus the company can sell proposed health insurance to these leads in a more efficient manner."
   ]
  },
  {
   "cell_type": "markdown",
   "metadata": {},
   "source": [
    "## Erstelle aus `health-insurance.csv` einen DataFrame"
   ]
  },
  {
   "cell_type": "code",
   "execution_count": 253,
   "metadata": {},
   "outputs": [
    {
     "name": "stdout",
     "output_type": "stream",
     "text": [
      "<class 'pandas.core.frame.DataFrame'>\n",
      "RangeIndex: 50882 entries, 0 to 50881\n",
      "Data columns (total 14 columns):\n",
      " #   Column                   Non-Null Count  Dtype  \n",
      "---  ------                   --------------  -----  \n",
      " 0   ID                       50882 non-null  int64  \n",
      " 1   City_Code                50882 non-null  object \n",
      " 2   Region_Code              50882 non-null  int64  \n",
      " 3   Accomodation_Type        50882 non-null  object \n",
      " 4   Reco_Insurance_Type      50882 non-null  object \n",
      " 5   Upper_Age                50882 non-null  int64  \n",
      " 6   Lower_Age                50882 non-null  int64  \n",
      " 7   Is_Spouse                50882 non-null  object \n",
      " 8   Holding_Policy_Duration  30631 non-null  object \n",
      " 9   Holding_Policy_Type      30631 non-null  float64\n",
      " 10  Reco_Policy_Cat          50882 non-null  int64  \n",
      " 11  Reco_Policy_Premium      50882 non-null  float64\n",
      " 12  Response                 50882 non-null  int64  \n",
      " 13  Health_Indicator         39191 non-null  object \n",
      "dtypes: float64(2), int64(6), object(6)\n",
      "memory usage: 5.4+ MB\n"
     ]
    }
   ],
   "source": [
    "insurance = pd.read_csv('./data/health-insurance.csv')\n",
    "insurance[\"Health_Indicator\"] = insurance[\"Health Indicator\"]\n",
    "insurance = insurance.drop(columns=\"Health Indicator\")\n",
    "insurance.info()"
   ]
  },
  {
   "cell_type": "markdown",
   "metadata": {},
   "source": [
    "## Data Cleaning\n",
    "\n",
    "* fehlende `Holding_Policy_Duration`/`Holding_Policy_Duration`-Werte sind gleich viele, sollten also gleich behandelt werden\n",
    "* betrachte die Ausprägungen von `Health Indicator`. Auch hier gibt es einige `NaN`s"
   ]
  },
  {
   "cell_type": "code",
   "execution_count": 254,
   "outputs": [],
   "source": [
    "columnTransformer = ColumnTransformer(\n",
    "    transformers=[(\"oneHotEncoder\", OneHotEncoder(), [\"Is_Spouse\", \"Reco_Insurance_Type\", \"Accomodation_Type\"]),\n",
    "                  (\"stripTransformer\", StripTransformer(columns=[\"Health_Indicator\", \"City_Code\"]), [\"Health_Indicator\", \"City_Code\"]),\n",
    "                  (\"make14PTo15Transformer\", Make14PTo15Transformer(columns=[\"Holding_Policy_Duration\"]), [\"Holding_Policy_Duration\"])\n",
    "                  ],\n",
    "    remainder=\"passthrough\")\n",
    "\n",
    "pipe = Pipeline([(\"transformers\", columnTransformer),\n",
    "                 (\"imputer\", IterativeImputer()),\n",
    "                 (\"scalar\", RobustScaler())\n",
    "                 ])"
   ],
   "metadata": {
    "collapsed": false
   }
  },
  {
   "cell_type": "markdown",
   "metadata": {},
   "source": [
    "## Training\n",
    "* 20% Testdaten\n",
    "* `random_state=42` sofern unterstützt\n",
    "* target feature: `Response`\n",
    "* Überlege, welche Metrik maximiert werden soll (*accuracy*/*recall*/*f1*) und was die Business Implikation des erhaltenen Modells ist, diese Metrik geht in die `GridSearchCV` als `scoring` ein\n",
    "* Trainiere mindestens\n",
    "    * eine optimierte `LogisticRegression` mit `GridSearchCV` (optimiere `solver`, `C` und `class_weight`)\n",
    "    * einen optimierten `KNeighborsClassifier` mit `GridSearchCV` (optimiere `n_neighbors` und `weights`)\n",
    "    * zwei ANNs (eins mit `class_weights` und eins ohne).\n",
    "        `compile(metrics=[<metrik>]` kann entweder ein String übergeben werden oder eine Instanz einer Klasse aus `keras.metrics`"
   ]
  },
  {
   "cell_type": "code",
   "execution_count": 255,
   "outputs": [],
   "source": [
    "X = insurance.drop(columns=\"Response\")\n",
    "y = insurance.Response\n",
    "\n",
    "X_train, X_test, y_train, y_test = train_test_split(X, y, test_size=0.2 ,random_state=42)\n",
    "\n",
    "X_train = pipe.fit_transform(X_train)\n",
    "X_test = pipe.transform(X_test)\n"
   ],
   "metadata": {
    "collapsed": false
   }
  },
  {
   "cell_type": "markdown",
   "source": [
    "### LogisticRegression"
   ],
   "metadata": {
    "collapsed": false
   }
  },
  {
   "cell_type": "code",
   "execution_count": 256,
   "outputs": [
    {
     "data": {
      "text/plain": "GridSearchCV(cv=5, estimator=LogisticRegression(), n_jobs=20,\n             param_grid={'C': [1, 0.1, 10, 0.01, 10, 0.001],\n                         'class_weight': [None, 'balanced'],\n                         'solver': ['sag', 'saga', 'newton-cg', 'lbfgs']},\n             scoring='precision')"
     },
     "execution_count": 256,
     "metadata": {},
     "output_type": "execute_result"
    }
   ],
   "source": [
    "\n",
    "log_cv = GridSearchCV(\n",
    "    estimator=LogisticRegression(),\n",
    "    param_grid= {\n",
    "        \"solver\": ['sag', 'saga', 'newton-cg', 'lbfgs'],\n",
    "        'class_weight': [None, 'balanced'],\n",
    "        'C': [1, 0.1, 10, 0.01, 10, 0.001]\n",
    "    },\n",
    "    n_jobs=20,\n",
    "    scoring=\"precision\",\n",
    "    cv=5\n",
    ")\n",
    "\n",
    "log_cv.fit(X_train, y_train)"
   ],
   "metadata": {
    "collapsed": false
   }
  },
  {
   "cell_type": "code",
   "execution_count": 257,
   "outputs": [
    {
     "data": {
      "text/plain": "0.4760734990665226"
     },
     "execution_count": 257,
     "metadata": {},
     "output_type": "execute_result"
    }
   ],
   "source": [
    "log_cv.best_estimator_.score(X_test, y_test)"
   ],
   "metadata": {
    "collapsed": false
   }
  },
  {
   "cell_type": "code",
   "execution_count": 258,
   "outputs": [
    {
     "name": "stdout",
     "output_type": "stream",
     "text": [
      "              precision    recall  f1-score   support\n",
      "\n",
      "           0       0.79      0.42      0.55      7688\n",
      "           1       0.27      0.66      0.38      2489\n",
      "\n",
      "    accuracy                           0.48     10177\n",
      "   macro avg       0.53      0.54      0.46     10177\n",
      "weighted avg       0.66      0.48      0.51     10177\n",
      "\n"
     ]
    }
   ],
   "source": [
    "print(classification_report(y_test, log_cv.best_estimator_.predict(X_test)))"
   ],
   "metadata": {
    "collapsed": false
   }
  },
  {
   "cell_type": "markdown",
   "source": [
    "### ANN ohne Class Weight"
   ],
   "metadata": {
    "collapsed": false
   }
  },
  {
   "cell_type": "code",
   "execution_count": 259,
   "outputs": [],
   "source": [
    "cb_early_stop = EarlyStopping(\n",
    "    monitor='val_precision',\n",
    "    min_delta=0.05,\n",
    "    patience=10,\n",
    "    restore_best_weights=True,\n",
    "    verbose=1)"
   ],
   "metadata": {
    "collapsed": false
   }
  },
  {
   "cell_type": "code",
   "execution_count": 261,
   "outputs": [
    {
     "name": "stdout",
     "output_type": "stream",
     "text": [
      "Epoch 1/30\n",
      "1273/1273 [==============================] - 3s 2ms/step - loss: 0.5657 - precision: 0.2498 - val_loss: 0.5495 - val_precision: 0.0000e+00\n",
      "Epoch 2/30\n",
      "1273/1273 [==============================] - 2s 2ms/step - loss: 0.5440 - precision: 0.3600 - val_loss: 0.5521 - val_precision: 0.0000e+00\n",
      "Epoch 3/30\n",
      "1273/1273 [==============================] - 2s 2ms/step - loss: 0.5421 - precision: 0.2500 - val_loss: 0.5476 - val_precision: 0.0000e+00\n",
      "Epoch 4/30\n",
      "1273/1273 [==============================] - 2s 2ms/step - loss: 0.5403 - precision: 0.5000 - val_loss: 0.5490 - val_precision: 0.0000e+00\n",
      "Epoch 5/30\n",
      "1273/1273 [==============================] - 2s 2ms/step - loss: 0.5400 - precision: 0.0000e+00 - val_loss: 0.5473 - val_precision: 0.0000e+00\n",
      "Epoch 6/30\n",
      "1273/1273 [==============================] - 2s 2ms/step - loss: 0.5394 - precision: 0.0000e+00 - val_loss: 0.5482 - val_precision: 0.0000e+00\n",
      "Epoch 7/30\n",
      "1273/1273 [==============================] - 2s 2ms/step - loss: 0.5383 - precision: 1.0000 - val_loss: 0.5491 - val_precision: 0.0000e+00\n",
      "Epoch 8/30\n",
      "1273/1273 [==============================] - 2s 2ms/step - loss: 0.5382 - precision: 0.5000 - val_loss: 0.5497 - val_precision: 0.2500\n",
      "Epoch 9/30\n",
      "1273/1273 [==============================] - 2s 2ms/step - loss: 0.5373 - precision: 0.1667 - val_loss: 0.5470 - val_precision: 0.3333\n",
      "Epoch 10/30\n",
      "1273/1273 [==============================] - 2s 2ms/step - loss: 0.5367 - precision: 0.3750 - val_loss: 0.5462 - val_precision: 0.0000e+00\n",
      "Epoch 11/30\n",
      "1253/1273 [============================>.] - ETA: 0s - loss: 0.5352 - precision: 0.2000Restoring model weights from the end of the best epoch: 1.\n",
      "1273/1273 [==============================] - 2s 2ms/step - loss: 0.5348 - precision: 0.2000 - val_loss: 0.5526 - val_precision: 0.3231\n",
      "Epoch 11: early stopping\n"
     ]
    },
    {
     "data": {
      "text/plain": "<AxesSubplot: >"
     },
     "execution_count": 261,
     "metadata": {},
     "output_type": "execute_result"
    },
    {
     "data": {
      "text/plain": "<Figure size 640x480 with 1 Axes>",
      "image/png": "[encoded data removed]"
     },
     "metadata": {},
     "output_type": "display_data"
    }
   ],
   "source": [
    "ann_wo_cw = Sequential([\n",
    "    Dense(units=50, activation='relu'),\n",
    "    BatchNormalization(),\n",
    "    Dense(units=50, activation='relu'),\n",
    "    BatchNormalization(),\n",
    "    Dense(units=50, activation='relu'),\n",
    "    BatchNormalization(),\n",
    "    Dense(units=50, activation='relu'),\n",
    "    BatchNormalization(),\n",
    "    Dense(units=1, activation='sigmoid')\n",
    "])\n",
    "ann_wo_cw.compile(optimizer='adam', loss='binary_crossentropy', metrics=keras.metrics.Precision(name='precision'))\n",
    "history = ann_wo_cw.fit(X_train, y_train,\n",
    "                        callbacks=cb_early_stop,\n",
    "                        validation_data=(X_test, y_test),\n",
    "                        epochs=30,\n",
    "                        workers=-1,\n",
    "                        verbose=1\n",
    "                        )\n",
    "history = pd.DataFrame(history.history)\n",
    "sns.lineplot(data=history)"
   ],
   "metadata": {
    "collapsed": false
   }
  },
  {
   "cell_type": "code",
   "execution_count": 262,
   "outputs": [
    {
     "name": "stdout",
     "output_type": "stream",
     "text": [
      "319/319 [==============================] - 0s 670us/step\n",
      "[[7688    0]\n",
      " [2489    0]]\n",
      "319/319 [==============================] - 0s 689us/step\n",
      "              precision    recall  f1-score   support\n",
      "\n",
      "           0       0.76      1.00      0.86      7688\n",
      "           1       0.00      0.00      0.00      2489\n",
      "\n",
      "    accuracy                           0.76     10177\n",
      "   macro avg       0.38      0.50      0.43     10177\n",
      "weighted avg       0.57      0.76      0.65     10177\n",
      "\n"
     ]
    },
    {
     "name": "stderr",
     "output_type": "stream",
     "text": [
      "C:\\Users\\longb\\anaconda3\\lib\\site-packages\\sklearn\\metrics\\_classification.py:1318: UndefinedMetricWarning: Precision and F-score are ill-defined and being set to 0.0 in labels with no predicted samples. Use `zero_division` parameter to control this behavior.\n",
      "  _warn_prf(average, modifier, msg_start, len(result))\n",
      "C:\\Users\\longb\\anaconda3\\lib\\site-packages\\sklearn\\metrics\\_classification.py:1318: UndefinedMetricWarning: Precision and F-score are ill-defined and being set to 0.0 in labels with no predicted samples. Use `zero_division` parameter to control this behavior.\n",
      "  _warn_prf(average, modifier, msg_start, len(result))\n",
      "C:\\Users\\longb\\anaconda3\\lib\\site-packages\\sklearn\\metrics\\_classification.py:1318: UndefinedMetricWarning: Precision and F-score are ill-defined and being set to 0.0 in labels with no predicted samples. Use `zero_division` parameter to control this behavior.\n",
      "  _warn_prf(average, modifier, msg_start, len(result))\n"
     ]
    }
   ],
   "source": [
    "print(confusion_matrix(y_test, (ann_wo_cw.predict(X_test) > 0.5).astype(\"int32\")))\n",
    "print(classification_report(y_test, (ann_wo_cw.predict(X_test) > 0.5).astype(\"int32\")))"
   ],
   "metadata": {
    "collapsed": false
   }
  },
  {
   "cell_type": "markdown",
   "source": [
    "### ANN mit Class Weights"
   ],
   "metadata": {
    "collapsed": false
   }
  },
  {
   "cell_type": "code",
   "execution_count": 263,
   "outputs": [
    {
     "data": {
      "text/plain": "{0: 0.6568500887526222, 1: 2.093878600823045}"
     },
     "execution_count": 263,
     "metadata": {},
     "output_type": "execute_result"
    }
   ],
   "source": [
    "class_weights = dict(zip(np.unique(y_train), class_weight.compute_class_weight(class_weight='balanced', classes=np.unique(y_train), y= y_train)))\n",
    "class_weights"
   ],
   "metadata": {
    "collapsed": false
   }
  },
  {
   "cell_type": "code",
   "execution_count": 246,
   "outputs": [
    {
     "name": "stdout",
     "output_type": "stream",
     "text": [
      "Epoch 1/30\n",
      "1273/1273 [==============================] - 4s 3ms/step - loss: 0.7131 - precision: 0.2585 - val_loss: 0.6960 - val_precision: 0.2684\n",
      "Epoch 2/30\n",
      "1273/1273 [==============================] - 3s 3ms/step - loss: 0.6852 - precision: 0.2675 - val_loss: 0.6946 - val_precision: 0.2698\n",
      "Epoch 3/30\n",
      "1273/1273 [==============================] - 3s 2ms/step - loss: 0.6842 - precision: 0.2650 - val_loss: 0.6829 - val_precision: 0.2726\n",
      "Epoch 4/30\n",
      "1273/1273 [==============================] - 4s 3ms/step - loss: 0.6822 - precision: 0.2618 - val_loss: 0.6712 - val_precision: 0.2649\n",
      "Epoch 5/30\n",
      "1273/1273 [==============================] - 3s 2ms/step - loss: 0.6814 - precision: 0.2643 - val_loss: 0.6746 - val_precision: 0.2723\n",
      "Epoch 6/30\n",
      "1273/1273 [==============================] - 3s 3ms/step - loss: 0.6790 - precision: 0.2699 - val_loss: 0.6767 - val_precision: 0.2733\n",
      "Epoch 7/30\n",
      "1273/1273 [==============================] - 4s 3ms/step - loss: 0.6793 - precision: 0.2670 - val_loss: 0.6606 - val_precision: 0.2745\n",
      "Epoch 8/30\n",
      "1273/1273 [==============================] - 3s 3ms/step - loss: 0.6777 - precision: 0.2706 - val_loss: 0.6896 - val_precision: 0.2717\n",
      "Epoch 9/30\n",
      "1273/1273 [==============================] - 3s 3ms/step - loss: 0.6765 - precision: 0.2691 - val_loss: 0.6703 - val_precision: 0.2736\n",
      "Epoch 10/30\n",
      "1273/1273 [==============================] - 3s 3ms/step - loss: 0.6766 - precision: 0.2699 - val_loss: 0.6852 - val_precision: 0.2758\n",
      "Epoch 11/30\n",
      "1269/1273 [============================>.] - ETA: 0s - loss: 0.6744 - precision: 0.2758Restoring model weights from the end of the best epoch: 1.\n",
      "1273/1273 [==============================] - 4s 3ms/step - loss: 0.6744 - precision: 0.2759 - val_loss: 0.6978 - val_precision: 0.2741\n",
      "Epoch 11: early stopping\n"
     ]
    },
    {
     "data": {
      "text/plain": "<AxesSubplot: >"
     },
     "execution_count": 246,
     "metadata": {},
     "output_type": "execute_result"
    },
    {
     "data": {
      "text/plain": "<Figure size 640x480 with 1 Axes>",
      "image/png": "[encoded data removed]"
     },
     "metadata": {},
     "output_type": "display_data"
    }
   ],
   "source": [
    "ann_classweights = Sequential([\n",
    "    Dense(units=800, activation='relu'),\n",
    "    BatchNormalization(),\n",
    "    Dense(units=800, activation='relu'),\n",
    "    BatchNormalization(),\n",
    "    Dense(units=200, activation='relu'),\n",
    "    BatchNormalization(),\n",
    "    Dense(units=1, activation='sigmoid')\n",
    "])\n",
    "ann_classweights.compile(optimizer='adam', loss='binary_crossentropy', metrics=keras.metrics.Precision(name='precision'))\n",
    "history = ann_classweights.fit(X_train, y_train,\n",
    "                               callbacks=cb_early_stop,\n",
    "                               validation_data=(X_test, y_test),\n",
    "                               epochs=30,\n",
    "                               workers=-1,\n",
    "                               verbose=1,\n",
    "                               class_weight=class_weights,\n",
    "                               )\n",
    "history = pd.DataFrame(history.history)\n",
    "sns.lineplot(data=history)"
   ],
   "metadata": {
    "collapsed": false
   }
  },
  {
   "cell_type": "code",
   "execution_count": 247,
   "outputs": [
    {
     "name": "stdout",
     "output_type": "stream",
     "text": [
      "319/319 [==============================] - 0s 1ms/step\n",
      "              precision    recall  f1-score   support\n",
      "\n",
      "           0       0.79      0.46      0.58      7688\n",
      "           1       0.27      0.61      0.37      2489\n",
      "\n",
      "    accuracy                           0.50     10177\n",
      "   macro avg       0.53      0.54      0.48     10177\n",
      "weighted avg       0.66      0.50      0.53     10177\n",
      "\n"
     ]
    }
   ],
   "source": [
    "print(metrics.classification_report(y_test, (ann_classweights.predict(X_test) > 0.5).astype(\"int32\")))"
   ],
   "metadata": {
    "collapsed": false
   }
  },
  {
   "cell_type": "markdown",
   "metadata": {},
   "source": [
    "## Evaluiere die Modelle und Interpretiere deine Lösung bezüglich *precision*/*recall*/*f1*"
   ]
  },
  {
   "cell_type": "markdown",
   "source": [
    "### Beste precision gibt ANN mit class weights"
   ],
   "metadata": {
    "collapsed": false
   }
  }
 ],
 "metadata": {
  "kernelspec": {
   "display_name": "Python 3",
   "language": "python",
   "name": "python3"
  },
  "language_info": {
   "codemirror_mode": {
    "name": "ipython",
    "version": 3
   },
   "file_extension": ".py",
   "mimetype": "text/x-python",
   "name": "python",
   "nbconvert_exporter": "python",
   "pygments_lexer": "ipython3",
   "version": "3.8.8"
  }
 },
 "nbformat": 4,
 "nbformat_minor": 1
}
